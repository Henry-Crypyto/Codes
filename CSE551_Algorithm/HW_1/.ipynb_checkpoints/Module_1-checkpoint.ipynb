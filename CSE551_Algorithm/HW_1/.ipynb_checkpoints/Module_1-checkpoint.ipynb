{
 "cells": [
  {
   "cell_type": "code",
   "execution_count": 41,
   "id": "c6e097d9-bb54-4113-bf27-add914d08ab8",
   "metadata": {},
   "outputs": [
    {
     "name": "stdout",
     "output_type": "stream",
     "text": [
      "Result is:-\n",
      "HR : Adam\n",
      "CRM : Clare\n",
      "Admin : Bob\n",
      "Research : Emily\n",
      "Development : Diane\n"
     ]
    }
   ],
   "source": [
    "#!/usr/bin/env python3\n",
    "# -*- coding: utf-8 -*-\n",
    "# Author: Heng Yu Hsu\n",
    "\n",
    "# Input values\n",
    "M = [ [2, 1, 4, 5, 3],              # Department preference list\n",
    "     [4, 2, 1, 3, 5], \n",
    "     [2, 5, 3, 4, 1], \n",
    "     [1, 4, 3, 2, 5], \n",
    "     [2, 4, 1, 5, 3] ]\n",
    "W = [ [5, 1, 2, 4, 3],              # Employee preference list\n",
    "     [3, 2, 4, 1, 5], \n",
    "     [2, 3, 4, 5, 1], \n",
    "     [1, 5, 4, 3, 2], \n",
    "     [4, 2, 5, 3, 1] ]\n",
    "N = 5                               # Number of departments & employees\n",
    "\n",
    "\n",
    "\n",
    "\n",
    "\n",
    "# Initialize arrays using None\n",
    "department_employee = [None] * N\n",
    "employee_department = [None] * N\n",
    "free_departments = list(range(N))\n",
    "\n",
    "\n",
    "while free_departments:\n",
    "    \n",
    "    d = free_departments.pop(0)\n",
    "    \n",
    "    for e in M[d]:\n",
    "        e -= 1\n",
    "\n",
    "        if employee_department[e] is None: \n",
    "            \n",
    "            department_employee[d] = e\n",
    "            employee_department[e] = d\n",
    "            break\n",
    "        else:\n",
    "            current_d = employee_department[e]\n",
    "            \n",
    "            if W[e].index(d + 1) < W[e].index(current_d + 1):\n",
    "                department_employee[d] = e\n",
    "                \n",
    "                employee_department[e] = d\n",
    "                free_departments.append(current_d)\n",
    "                \n",
    "                break\n",
    "\n",
    "\n",
    "\n",
    "\n",
    "# Visualizing the result, Printing the output\n",
    "Names = [ ['HR', 'CRM', 'Admin', 'Research', 'Development'],      # Initialize the mapping of names\n",
    "         ['Adam', 'Bob', 'Clare', 'Diane', 'Emily'] ]\n",
    "print('Result is:-')\n",
    "for i in range(N):\n",
    "    print(Names[0][i], \":\", Names[1][department_employee[i]])                # Map the result to the names"
   ]
  }
 ],
 "metadata": {
  "kernelspec": {
   "display_name": "Python 3 (ipykernel)",
   "language": "python",
   "name": "python3"
  },
  "language_info": {
   "codemirror_mode": {
    "name": "ipython",
    "version": 3
   },
   "file_extension": ".py",
   "mimetype": "text/x-python",
   "name": "python",
   "nbconvert_exporter": "python",
   "pygments_lexer": "ipython3",
   "version": "3.12.5"
  }
 },
 "nbformat": 4,
 "nbformat_minor": 5
}
