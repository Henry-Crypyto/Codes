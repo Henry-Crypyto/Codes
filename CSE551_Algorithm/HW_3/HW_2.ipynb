{
 "cells": [
  {
   "cell_type": "markdown",
   "metadata": {},
   "source": [
    "Question: We want to invest in a company in NY Stock market next year. Its stock price changes seasonally during the year. We have the daily stock price of this company for the last year (365 daily prices). Some days it increases, some day it decreases. We want to invest in it and maximize our profit. What was the best time to buy (e.g Apr15) and sell (e.g. Sep15) this stock last year? We can buy and sell only once in a year, so don't want to pay too much taxes. \n",
    "\n",
    "In order to make it easier for you, just use the daily price of 9 days at below, instead of 365 days. And also just print out the max profit that we can make. No need to print out start & finish index (day).\n",
    "\n",
    "arr = [15, 13, 8, 14, 12, 9, 10, 15, 9]      \n",
    "\n",
    "(Hint: When you read it you should be able to figure it out to find daily differences (negative/positive values) and apply Maximum Subarray Sum algorithm.)\n",
    "\n",
    "Please download the below Python code templates and write Maximum Subarray Sum algorithm in 3 different ways: O(n^2), O(n logn), O(n)."
   ]
  },
  {
   "cell_type": "markdown",
   "metadata": {},
   "source": [
    "Question: We want to invest in a company in NY Stock market next year. Its stock price changes seasonally during the year. We have the daily stock price of this company for the last year (365 daily prices). Some days it increases, some day it decreases. We want to invest in it and maximize our profit. What was the best time to buy (e.g Apr15) and sell (e.g. Sep15) this stock last year? We can buy and sell only once in a year, so don't want to pay too much taxes. \n",
    "\n",
    "In order to make it easier for you, just use the daily price of 9 days at below, instead of 365 days. And also just print out the max profit that we can make. No need to print out start & finish index (day).\n",
    "\n",
    "arr = [15, 13, 8, 14, 12, 9, 10, 15, 9]      \n",
    "\n",
    "(Hint: When you read it you should be able to figure it out to find daily differences (negative/positive values) and apply Maximum Subarray Sum algorithm.)\n",
    "\n",
    "Please download the below Python code templates and write Maximum Subarray Sum algorithm in 3 different ways: O(n^2), O(n logn), O(n).\n",
    "\n",
    "#!/usr/bin/env python3\n",
    "# -*- coding: utf-8 -*-\n",
    "@author: write your name here\n",
    "\n",
    "from sys import maxsize                        # import max int for initialization\n",
    "\n",
    "arr = [15, 13, 8, 14, 12, 9, 10, 15, 9]        # initialize the input array\n",
    "ans = -maxsize - 1                             # initialize ans variable to -intmax\n",
    "\n",
    "# WRITE YOUR CODE HERE\n",
    "\n",
    "print(ans)       "
   ]
  },
  {
   "cell_type": "code",
   "execution_count": 8,
   "metadata": {},
   "outputs": [
    {
     "name": "stdout",
     "output_type": "stream",
     "text": [
      "7\n"
     ]
    }
   ],
   "source": [
    "#!/usr/bin/env python3\n",
    "# -*- coding: utf-8 -*-\n",
    "# @author: write your name here\n",
    "\n",
    "from sys import maxsize\n",
    "\n",
    "arr = [15, 13, 8, 14, 12, 9, 10, 15, 9]  # initialize the input array\n",
    "\n",
    "# O(n^2) Solution\n",
    "def max_profit_n2(prices):\n",
    "    max_profit = 0\n",
    "    n = len(prices)\n",
    "    for i in range(n):\n",
    "        for j in range(i + 1, n):\n",
    "            profit = prices[j] - prices[i]\n",
    "            if profit > max_profit:\n",
    "                max_profit = profit\n",
    "    return max_profit\n",
    "\n",
    "# O(n log n) Solution\n",
    "def max_crossing_profit(prices, left, mid, right):\n",
    "    left_min = min(prices[left:mid+1])\n",
    "    right_max = max(prices[mid+1:right+1])\n",
    "    return right_max - left_min\n",
    "\n",
    "def max_profit_nlogn(prices, left, right):\n",
    "    if left >= right:\n",
    "        return 0\n",
    "    mid = (left + right) // 2\n",
    "    left_profit = max_profit_nlogn(prices, left, mid)\n",
    "    right_profit = max_profit_nlogn(prices, mid + 1, right)\n",
    "    cross_profit = max_crossing_profit(prices, left, mid, right)\n",
    "    return max(left_profit, right_profit, cross_profit)\n",
    "\n",
    "# O(n) Solution\n",
    "def max_profit_n(prices):\n",
    "    min_price = maxsize\n",
    "    max_profit = 0\n",
    "    for price in prices:\n",
    "        if price < min_price:\n",
    "            min_price = price\n",
    "        elif price - min_price > max_profit:\n",
    "            max_profit = price - min_price\n",
    "    return max_profit\n",
    "\n",
    "# Choose one of the solutions to print the result\n",
    "\n",
    "# ans = max_profit_n2(arr)  # O(n^2) solution\n",
    "# ans = max_profit_n(arr)  # O(n) solution\n",
    "ans = max_profit_nlogn(arr, 0, len(arr) - 1)  # O(n log n) solution\n",
    "\n",
    "print(ans)"
   ]
  }
 ],
 "metadata": {
  "kernelspec": {
   "display_name": "Python 3",
   "language": "python",
   "name": "python3"
  },
  "language_info": {
   "codemirror_mode": {
    "name": "ipython",
    "version": 3
   },
   "file_extension": ".py",
   "mimetype": "text/x-python",
   "name": "python",
   "nbconvert_exporter": "python",
   "pygments_lexer": "ipython3",
   "version": "3.9.6"
  }
 },
 "nbformat": 4,
 "nbformat_minor": 2
}
