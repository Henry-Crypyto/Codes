{
 "cells": [
  {
   "cell_type": "code",
   "execution_count": 6,
   "id": "56dfe00a-a3ae-4be8-b7bd-62ecf0dfe8cb",
   "metadata": {},
   "outputs": [
    {
     "name": "stdout",
     "output_type": "stream",
     "text": [
      "Resulting Clusters: [[0, 2, 3, 4, 5, 6], [1]]\n"
     ]
    }
   ],
   "source": [
    "#!/usr/bin/env python3\n",
    "# -*- coding: utf-8 -*-\n",
    "# @author: Heng-Yu Hsu\n",
    "\n",
    "# Function to perform Kruskal's algorithm for single link k-clustering\n",
    "def greedy_clustering_kruskal(distance_matrix, k):\n",
    "    n = len(distance_matrix)\n",
    "    parent = list(range(n))\n",
    "    rank = [0] * n\n",
    "    \n",
    "    def find(target):\n",
    "        if parent[target] != target:\n",
    "            parent[target] = find(parent[target])  # Path compression\n",
    "        return parent[target]\n",
    "        \n",
    "    def union(a, b):\n",
    "        root_a, root_b = find(a), find(b)\n",
    "        if root_a != root_b:\n",
    "            if rank[root_a] > rank[root_b]:\n",
    "                parent[root_b] = root_a\n",
    "            elif rank[root_a] < rank[root_b]:\n",
    "                parent[root_a] = root_b\n",
    "            else:\n",
    "                parent[root_b] = root_a\n",
    "                rank[root_a] += 1\n",
    "\n",
    "    edges = []\n",
    "    for i in range(n):\n",
    "        for j in range(i + 1, n):\n",
    "            edges.append((distance_matrix[i][j], i, j))\n",
    "    edges.sort()\n",
    "    \n",
    "    num_clusters = n\n",
    "    # Process edges in increasing order of distance\n",
    "    for distance, a, b in edges:\n",
    "        if find(a) != find(b):\n",
    "            if num_clusters == k:\n",
    "                break\n",
    "            union(a, b)\n",
    "            num_clusters -= 1\n",
    "\n",
    "\n",
    "    \n",
    "    clusters = {}\n",
    "    for i in range(n):\n",
    "        root = find(i)\n",
    "        if root not in clusters:\n",
    "            clusters[root] = []\n",
    "        clusters[root].append(i)\n",
    "    \n",
    "    return list(clusters.values()) \n",
    "\n",
    "# Use this input \n",
    "distance_matrix = [\n",
    "    [0, 38, 17, 28, 88, 59, 13],\n",
    "    [38, 0, 52, 49, 83, 91, 59],\n",
    "    [17, 52, 0, 46, 34, 77, 80],\n",
    "    [28, 49, 46, 0, 5, 53, 62],\n",
    "    [88, 83, 34, 5, 0, 43, 33],\n",
    "    [59, 91, 77, 53, 43, 0, 27],\n",
    "    [13, 59, 80, 62, 33, 27, 0]\n",
    "]\n",
    "\n",
    "# Set k=2 for number of clusters\n",
    "k = 2  \n",
    "clusters = greedy_clustering_kruskal(distance_matrix, k)\n",
    "\n",
    "# Print the resulting clusters\n",
    "print(\"Resulting Clusters:\", clusters)"
   ]
  },
  {
   "cell_type": "code",
   "execution_count": null,
   "id": "704dfe5d-a7c4-462a-b633-45cdd6d22c1a",
   "metadata": {},
   "outputs": [],
   "source": []
  }
 ],
 "metadata": {
  "kernelspec": {
   "display_name": "Python 3 (ipykernel)",
   "language": "python",
   "name": "python3"
  },
  "language_info": {
   "codemirror_mode": {
    "name": "ipython",
    "version": 3
   },
   "file_extension": ".py",
   "mimetype": "text/x-python",
   "name": "python",
   "nbconvert_exporter": "python",
   "pygments_lexer": "ipython3",
   "version": "3.12.6"
  }
 },
 "nbformat": 4,
 "nbformat_minor": 5
}
