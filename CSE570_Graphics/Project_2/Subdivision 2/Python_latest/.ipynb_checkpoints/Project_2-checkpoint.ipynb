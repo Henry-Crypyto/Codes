{
 "cells": [
  {
   "cell_type": "code",
   "execution_count": 9,
   "id": "0206019a-9b8a-4e8e-a43a-0a694c5e4565",
   "metadata": {},
   "outputs": [
    {
     "name": "stdout",
     "output_type": "stream",
     "text": [
      "hello\n",
      "[8, 12, 18]\n",
      "12\n",
      "[1.0, -1.0, -1.0]\n",
      "[1.0, -1.0, 1.0]\n",
      "[-1.0, -1.0, 1.0]\n",
      "[-1.0, -1.0, -1.0]\n",
      "[1.0, 1.0, -1.0]\n",
      "[1.0, 1.0, 1.0]\n",
      "[-1.0, 1.0, 1.0]\n",
      "[-1.0, 1.0, -1.0]\n",
      "--------------------\n",
      "0 1 2\n",
      "4 7 5\n",
      "0 4 1\n",
      "1 5 2\n",
      "2 6 7\n",
      "4 0 7\n",
      "3 0 2\n",
      "4 5 1\n",
      "0 3 7\n",
      "7 6 5\n",
      "3 2 7\n",
      "5 6 2\n"
     ]
    }
   ],
   "source": [
    "''' read the file line by line to understanding how the half edge load \n",
    "an off file and to save the half edge mesh as an obj file.\n",
    "\n",
    "author:\n",
    "    zhangsihao yang\n",
    "'''\n",
    "print ('hello')\n",
    "\n",
    "data_path = 'tests/data/cube.off'\n",
    "\n",
    "import mesh\n",
    "\n",
    "# HalfedgeMesh\n",
    "mesh = mesh.HalfedgeMesh(data_path)\n",
    "\n",
    "# Returns a list of Vertex type (in order of file)--similarly for halfedges,\n",
    "# and facets\n",
    "mesh.vertices\n",
    "\n",
    "# The number of facets in the mesh\n",
    "print(len(mesh.facets))\n",
    "\n",
    "# Get the 10th halfedge\n",
    "mesh.halfedges[10]\n",
    "\n",
    "# Get the halfedge that starts at vertex 25 and ends at vertex 50\n",
    "# mesh.get_halfedge(0, 1)\n",
    "\n",
    "# print(mesh.vertices)\n",
    "for vertex in mesh.vertices:\n",
    "    print(vertex.get_vertex())\n",
    "\n",
    "# print(mesh.facets)\n",
    "print('--------------------')\n",
    "for face in mesh.facets:\n",
    "    print(face.a, face.b, face.c)\n",
    "\n",
    "# to save the halfedge mesh you will need to following function.\n",
    "def save_halfmesh_as_obj(mesh, file_name):\n",
    "    with open(file_name, 'w') as open_file:\n",
    "        for vertex in mesh.vertices:\n",
    "            lv = vertex.get_vertex()\n",
    "            open_file.write(\"v {} {} {} \\n\".format(lv[0], lv[1], lv[2]))\n",
    "\n",
    "        for face in mesh.facets:\n",
    "            open_file.write(\"f {} {} {}\\n\".format(face.a+1, face.b+1, face.c+1))\n",
    "\n",
    "save_halfmesh_as_obj(mesh, 'tmp.obj')\n",
    "\n"
   ]
  },
  {
   "cell_type": "code",
   "execution_count": null,
   "id": "2f997fb8-558f-469b-bdae-04d51fdf230c",
   "metadata": {},
   "outputs": [],
   "source": []
  }
 ],
 "metadata": {
  "kernelspec": {
   "display_name": "Python 3 (ipykernel)",
   "language": "python",
   "name": "python3"
  },
  "language_info": {
   "codemirror_mode": {
    "name": "ipython",
    "version": 3
   },
   "file_extension": ".py",
   "mimetype": "text/x-python",
   "name": "python",
   "nbconvert_exporter": "python",
   "pygments_lexer": "ipython3",
   "version": "3.12.6"
  }
 },
 "nbformat": 4,
 "nbformat_minor": 5
}
